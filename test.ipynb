{
 "cells": [
  {
   "cell_type": "code",
   "execution_count": 45,
   "metadata": {},
   "outputs": [
    {
     "name": "stdout",
     "output_type": "stream",
     "text": [
      "debug: gnl|extdb|pgaptmp_000001\n",
      "正在提取 gnl|extdb|pgaptmp_000001 gnl|extdb|pgaptmp_000001 50S ribosomal protein L6, partial [Bacillus subtilis] 1\n",
      "成功 64 bp\n",
      "debug: gnl|extdb|pgaptmp_000001\n",
      "正在提取 gnl|extdb|pgaptmp_000001 gnl|extdb|pgaptmp_000001 50S ribosomal protein L6, partial [Bacillus subtilis] 2\n",
      "成功 64 bp\n",
      "debug: gnl|extdb|pgaptmp_0000011\n",
      "过渡：gnl|extdb|pgaptmp_003368\n",
      "gnl|extdb|pgaptmp_0000011提取失败\t1\n",
      "提取完成\n",
      "\n"
     ]
    }
   ],
   "source": [
    "from Bio import SeqIO\n",
    "\n",
    "extract_list = ['gnl|extdb|pgaptmp_000001', 'gnl|extdb|pgaptmp_000001', 'gnl|extdb|pgaptmp_0000011']\n",
    "# 功能多，但是遇到大序列时候比较慢\n",
    "db_handle = 'Datas/bigFasta/query.faa'\n",
    "store = []  # 临时存放Bio.SeqRecord对象\n",
    "num = 0  # 计数\n",
    "success_list = []\n",
    "num_no = 0\n",
    "END = len([i for i in SeqIO.parse(db_handle, format='fasta')])\n",
    "\n",
    "for rec_extr in extract_list:\n",
    "    print(f'debug: {rec_extr}')\n",
    "    counter = 0\n",
    "    for rec in SeqIO.parse(db_handle, format='fasta'):\n",
    "        counter += 1\n",
    "        if rec_extr == rec.id:      # 一定要用id，而不是name，虽然内容是一样的，但到SeqIO.write（）时候只能识别id\n",
    "            # print(counter, rec.id)\n",
    "            num += 1           # 序号和计数\n",
    "            print('正在提取', rec.id, rec.description, num)\n",
    "            # self.ui.textBrowser.append(f\"正在提取\\t{rec.id}\\t{num}\")\n",
    "            if rec.seq:             # 判断rec是否为空，不为空则添加到store列表中，表示成功提取\n",
    "                store.append(rec)\n",
    "                success_list.append(rec_extr)\n",
    "                print('成功', len(rec.seq),'bp')\n",
    "                # self.ui.textBrowser.append(f\"成功\\t{len(rec.seq)} bp\")\n",
    "            else:\n",
    "                print('序列为空！')\n",
    "                # self.ui.textBrowser.append(f\"序列为空\")\n",
    "        elif counter == END:\n",
    "                if rec_extr not in success_list:\n",
    "                    print(f'过渡：{rec.id}')\n",
    "                    num_no += 1\n",
    "                    print(f'{rec_extr}提取失败\\t{num_no}')\n",
    "                    # self.ui.textBrowser.append(f'{rec_extr}\\t提取失败\\t{num_no}')\n",
    "if store:\n",
    "    print('提取完成\\n')\n",
    "    # self.ui.textBrowser.append(f\"提取完成: {num} 成功, {num_no} 失败\\t{'='*10}\")\n",
    "else:\n",
    "    print('无对应序列，提取失败！！！')\n",
    "    # self.ui.textBrowser.append(f\"{extract_list}\\t无对应序列，提取失败！！！{'='*10}\")"
   ]
  }
 ],
 "metadata": {
  "kernelspec": {
   "display_name": "qt5",
   "language": "python",
   "name": "python3"
  },
  "language_info": {
   "codemirror_mode": {
    "name": "ipython",
    "version": 3
   },
   "file_extension": ".py",
   "mimetype": "text/x-python",
   "name": "python",
   "nbconvert_exporter": "python",
   "pygments_lexer": "ipython3",
   "version": "3.11.3"
  }
 },
 "nbformat": 4,
 "nbformat_minor": 2
}
